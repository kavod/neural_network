{
 "cells": [
  {
   "cell_type": "code",
   "execution_count": 1,
   "metadata": {},
   "outputs": [
    {
     "name": "stderr",
     "output_type": "stream",
     "text": [
      "/home/boris/anaconda3/lib/python3.6/site-packages/sklearn/cross_validation.py:41: DeprecationWarning: This module was deprecated in version 0.18 in favor of the model_selection module into which all the refactored classes and functions are moved. Also note that the interface of the new CV iterators are different from that of this module. This module will be removed in 0.20.\n",
      "  \"This module will be removed in 0.20.\", DeprecationWarning)\n"
     ]
    }
   ],
   "source": [
    "import numpy as np\n",
    "import pandas as pd\n",
    "from sklearn import linear_model\n",
    "from sklearn.metrics import mean_squared_error, r2_score\n",
    "from sklearn.cross_validation import train_test_split\n",
    "import matplotlib.pyplot as plt\n",
    "from neutral_network import Neural_Network"
   ]
  },
  {
   "cell_type": "code",
   "execution_count": 2,
   "metadata": {},
   "outputs": [
    {
     "data": {
      "text/html": [
       "<div>\n",
       "<style scoped>\n",
       "    .dataframe tbody tr th:only-of-type {\n",
       "        vertical-align: middle;\n",
       "    }\n",
       "\n",
       "    .dataframe tbody tr th {\n",
       "        vertical-align: top;\n",
       "    }\n",
       "\n",
       "    .dataframe thead th {\n",
       "        text-align: right;\n",
       "    }\n",
       "</style>\n",
       "<table border=\"1\" class=\"dataframe\">\n",
       "  <thead>\n",
       "    <tr style=\"text-align: right;\">\n",
       "      <th></th>\n",
       "      <th>dateTime</th>\n",
       "      <th>Ouverture</th>\n",
       "      <th>Chamb_Temp</th>\n",
       "      <th>Lyon_Temp</th>\n",
       "      <th>Temp_1H</th>\n",
       "    </tr>\n",
       "  </thead>\n",
       "  <tbody>\n",
       "    <tr>\n",
       "      <th>0</th>\n",
       "      <td>0</td>\n",
       "      <td>0.0</td>\n",
       "      <td>19.200</td>\n",
       "      <td>0.550</td>\n",
       "      <td>0.000</td>\n",
       "    </tr>\n",
       "    <tr>\n",
       "      <th>1</th>\n",
       "      <td>3600</td>\n",
       "      <td>0.0</td>\n",
       "      <td>19.200</td>\n",
       "      <td>0.250</td>\n",
       "      <td>0.025</td>\n",
       "    </tr>\n",
       "    <tr>\n",
       "      <th>2</th>\n",
       "      <td>7200</td>\n",
       "      <td>0.0</td>\n",
       "      <td>19.225</td>\n",
       "      <td>0.025</td>\n",
       "      <td>0.075</td>\n",
       "    </tr>\n",
       "    <tr>\n",
       "      <th>3</th>\n",
       "      <td>10800</td>\n",
       "      <td>0.0</td>\n",
       "      <td>19.300</td>\n",
       "      <td>-0.225</td>\n",
       "      <td>0.000</td>\n",
       "    </tr>\n",
       "    <tr>\n",
       "      <th>4</th>\n",
       "      <td>14400</td>\n",
       "      <td>0.0</td>\n",
       "      <td>19.300</td>\n",
       "      <td>-0.400</td>\n",
       "      <td>0.000</td>\n",
       "    </tr>\n",
       "  </tbody>\n",
       "</table>\n",
       "</div>"
      ],
      "text/plain": [
       "   dateTime  Ouverture  Chamb_Temp  Lyon_Temp  Temp_1H\n",
       "0         0        0.0      19.200      0.550    0.000\n",
       "1      3600        0.0      19.200      0.250    0.025\n",
       "2      7200        0.0      19.225      0.025    0.075\n",
       "3     10800        0.0      19.300     -0.225    0.000\n",
       "4     14400        0.0      19.300     -0.400    0.000"
      ]
     },
     "execution_count": 2,
     "metadata": {},
     "output_type": "execute_result"
    }
   ],
   "source": [
    "cols=['dateTime','Ouverture','Chamb_Temp','Lyon_Temp']\n",
    "parse_dates = ['dateTime']\n",
    "#raw_data = pd.read_csv('temperatures2.csv', skiprows=[0],names=cols,decimal=\",\",sep=\";\", parse_dates=parse_dates)\n",
    "raw_data = pd.read_csv('compiled.csv',usecols=range(1,6))\n",
    "raw_data.head()"
   ]
  },
  {
   "cell_type": "markdown",
   "metadata": {},
   "source": [
    "\n",
    "raw_data.loc[0,'Ouverture']=0\n",
    "for line in raw_data.index:\n",
    "    if np.isnan(raw_data.Ouverture[line]):\n",
    "        if np.isnan(raw_data.Chamb_Temp[line]):\n",
    "            raw_data.Ouverture[line]=0\n",
    "        else:\n",
    "            raw_data.Ouverture[line]=raw_data.Ouverture[line-1]\n",
    "    if np.isnan(raw_data.Chamb_Temp[line]):\n",
    "        raw_data.Chamb_Temp[line] = raw_data.Chamb_Temp[line-1]\n",
    "        raw_data.Lyon_Temp[line] = raw_data.Lyon_Temp[line-1]\n",
    "    #raw_data.Lyon_Temp[line] = raw_data.Lyon_Temp[line] - raw_data.Chamb_Temp[line]\n",
    "    oneHour = raw_data.dateTime[line] + pd.DateOffset(hours=1)\n",
    "    if raw_data[raw_data['dateTime']==oneHour].shape[0]>0:\n",
    "        raw_data.loc[line,'Temp_1H'] = raw_data[raw_data['dateTime']==oneHour].Chamb_Temp.iloc[0] - raw_data.Chamb_Temp[line]\n",
    "    else:\n",
    "        raw_data.loc[line,'Temp_1H'] = 0\n",
    "raw_data.Lyon_Temp = raw_data.Lyon_Temp - raw_data.Chamb_Temp\n",
    "raw_data.dateTime = raw_data.dateTime.dt.hour*3600+raw_data.dateTime.dt.minute*60+raw_data.dateTime.dt.second\n",
    "raw_data.head()"
   ]
  },
  {
   "cell_type": "code",
   "execution_count": 3,
   "metadata": {},
   "outputs": [],
   "source": [
    "#raw_data.dateTime.dt.time.hour*3600+raw_data.dateTime.dt.time[1].minute*60+raw_data.dateTime.dt.time[1].second\n",
    "#\n",
    "#raw_data"
   ]
  },
  {
   "cell_type": "code",
   "execution_count": 4,
   "metadata": {},
   "outputs": [
    {
     "data": {
      "text/plain": [
       "((1556, 4), (389, 4), (1556,), (389,))"
      ]
     },
     "execution_count": 4,
     "metadata": {},
     "output_type": "execute_result"
    }
   ],
   "source": [
    "X = raw_data.values[:,range(0,4)]\n",
    "y = raw_data.values[:,4]\n",
    "Xtrain, Xtest, ytrain, ytest = train_test_split(X,y,train_size=0.8)\n",
    "Xtrain.shape, Xtest.shape, ytrain.shape, ytest.shape"
   ]
  },
  {
   "cell_type": "code",
   "execution_count": 5,
   "metadata": {},
   "outputs": [
    {
     "data": {
      "text/plain": [
       "array([[ 0.05 ],\n",
       "       [ 0.   ],\n",
       "       [-0.025],\n",
       "       ...,\n",
       "       [ 0.   ],\n",
       "       [ 0.025],\n",
       "       [ 0.2  ]])"
      ]
     },
     "execution_count": 5,
     "metadata": {},
     "output_type": "execute_result"
    }
   ],
   "source": [
    "ytrain = ytrain.reshape(ytrain.shape[0],1)\n",
    "ytrain"
   ]
  },
  {
   "cell_type": "code",
   "execution_count": 6,
   "metadata": {},
   "outputs": [],
   "source": [
    "def xMinMax(X):\n",
    "    return np.min(X,axis=0),np.max(X-np.min(X,axis=0),axis=0)\n",
    "def scale(X,Xmin,Xmax):\n",
    "    return np.dot(X-Xmin,np.diag(1/Xmax))\n",
    "def unscale(X,Xmin,Xmax):\n",
    "    return np.dot(X,np.diag(Xmax))+Xmin"
   ]
  },
  {
   "cell_type": "code",
   "execution_count": 7,
   "metadata": {},
   "outputs": [],
   "source": [
    "Xmin,Xmax = xMinMax(Xtrain)\n",
    "ymin,ymax = xMinMax(ytrain)"
   ]
  },
  {
   "cell_type": "code",
   "execution_count": 2,
   "metadata": {},
   "outputs": [
    {
     "ename": "NameError",
     "evalue": "name 'Xtrain' is not defined",
     "output_type": "error",
     "traceback": [
      "\u001b[0;31m---------------------------------------------------------------------------\u001b[0m",
      "\u001b[0;31mNameError\u001b[0m                                 Traceback (most recent call last)",
      "\u001b[0;32m<ipython-input-2-83ad7c069975>\u001b[0m in \u001b[0;36m<module>\u001b[0;34m()\u001b[0m\n\u001b[1;32m      2\u001b[0m \u001b[0;32mfor\u001b[0m \u001b[0mi\u001b[0m \u001b[0;32min\u001b[0m \u001b[0mrange\u001b[0m\u001b[0;34m(\u001b[0m\u001b[0;36m4\u001b[0m\u001b[0;34m,\u001b[0m\u001b[0;36m5\u001b[0m\u001b[0;34m)\u001b[0m\u001b[0;34m:\u001b[0m\u001b[0;34m\u001b[0m\u001b[0m\n\u001b[1;32m      3\u001b[0m     \u001b[0;31m#i = int(j/2)\u001b[0m\u001b[0;34m\u001b[0m\u001b[0;34m\u001b[0m\u001b[0m\n\u001b[0;32m----> 4\u001b[0;31m     \u001b[0mXtst\u001b[0m \u001b[0;34m=\u001b[0m \u001b[0mXtrain\u001b[0m\u001b[0;34m[\u001b[0m\u001b[0;36m0\u001b[0m\u001b[0;34m:\u001b[0m\u001b[0;34m(\u001b[0m\u001b[0;36m100\u001b[0m\u001b[0;34m*\u001b[0m\u001b[0mi\u001b[0m\u001b[0;34m)\u001b[0m\u001b[0;34m]\u001b[0m\u001b[0;34m\u001b[0m\u001b[0m\n\u001b[0m\u001b[1;32m      5\u001b[0m     \u001b[0mytst\u001b[0m \u001b[0;34m=\u001b[0m \u001b[0mytrain\u001b[0m\u001b[0;34m[\u001b[0m\u001b[0;36m0\u001b[0m\u001b[0;34m:\u001b[0m\u001b[0;34m(\u001b[0m\u001b[0;36m100\u001b[0m\u001b[0;34m*\u001b[0m\u001b[0mi\u001b[0m\u001b[0;34m)\u001b[0m\u001b[0;34m]\u001b[0m\u001b[0;34m\u001b[0m\u001b[0m\n\u001b[1;32m      6\u001b[0m     \u001b[0msyn0\u001b[0m \u001b[0;34m=\u001b[0m \u001b[0;36m2\u001b[0m\u001b[0;34m*\u001b[0m\u001b[0mnp\u001b[0m\u001b[0;34m.\u001b[0m\u001b[0mrandom\u001b[0m\u001b[0;34m.\u001b[0m\u001b[0mrandom\u001b[0m\u001b[0;34m(\u001b[0m\u001b[0;34m(\u001b[0m\u001b[0;36m4\u001b[0m\u001b[0;34m,\u001b[0m\u001b[0;36m5\u001b[0m\u001b[0;34m)\u001b[0m\u001b[0;34m)\u001b[0m \u001b[0;34m-\u001b[0m \u001b[0;36m1\u001b[0m\u001b[0;34m\u001b[0m\u001b[0m\n",
      "\u001b[0;31mNameError\u001b[0m: name 'Xtrain' is not defined"
     ]
    }
   ],
   "source": [
    "verbose = True\n",
    "for i in range(4,5):\n",
    "    #i = int(j/2)\n",
    "    Xtst = Xtrain[0:(100*i)]\n",
    "    ytst = ytrain[0:(100*i)]\n",
    "    syn0 = 2*np.random.random((4,5)) - 1\n",
    "    syn1 = 2*np.random.random((5,1)) - 1\n",
    "    \n",
    "    Xtst = np.array([2])\n",
    "    ytst = np.array([1,2,3])\n",
    "    syn0 = 2*np.random.random((1,2)) - 1\n",
    "    syn1 = 2*np.random.random((2,3)) - 1\n",
    "    Xmin,Xmax = xMinMax(Xtst)\n",
    "    ymin,ymax = xMinMax(ytst)\n",
    "    \n",
    "    #syn0 = np.ones((4,5))/2\n",
    "    #syn1 = 2*np.ones((5,1))-1\n",
    "    print('#0') if verbose else 1\n",
    "    print('Input:'+str(scale(Xtst,Xmin,Xmax))) if verbose else 1\n",
    "    print('Expected:'+str(scale(ytst,ymin,ymax))) if verbose else 1\n",
    "    print('syn0:'+str(syn0)) if verbose else 1\n",
    "    print('syn1:'+str(syn1)+'\\n') if verbose else 1\n",
    "\n",
    "    for j in range(1,2):\n",
    "        print('#'+str(j)) if verbose else 1\n",
    "        l1 = 1/(1+np.exp(-(np.dot(scale(Xtst,Xmin,Xmax),syn0))))\n",
    "        print('l1:'+str(l1)) if verbose else 1\n",
    "        l2 = 1/(1+np.exp(-(np.dot(l1,syn1))))\n",
    "        print('l2:'+str(l2)) if verbose else 1\n",
    "        l2_delta = (scale(ytst,ymin,ymax) - l2)*(l2*(1-l2))\n",
    "        print('l2_delta:'+str(l2_delta)) if verbose else 1\n",
    "        l1_delta = l2_delta.dot(syn1.T) * (l1 * (1-l1))\n",
    "        print('l1_delta:'+str(l1_delta)) if verbose else 1\n",
    "        syn1 += l1.T.dot(l2_delta)\n",
    "        print('syn0:'+str(syn0)) if verbose else 1\n",
    "        syn0 += (scale(Xtst,Xmin,Xmax)).T.dot(l1_delta)\n",
    "        print('syn1:'+str(syn1)+'\\n') if verbose else 1\n",
    "    print(str(100*i) + ' => ' + str(np.mean(unscale(l2,ymin,ymax)-ytst)))"
   ]
  },
  {
   "cell_type": "code",
   "execution_count": 9,
   "metadata": {},
   "outputs": [
    {
     "data": {
      "text/plain": [
       "(array([[-1.175     ],\n",
       "        [-1.175     ],\n",
       "        [-1.17499999],\n",
       "        ...,\n",
       "        [-1.175     ],\n",
       "        [-1.175     ],\n",
       "        [-1.175     ]]), -1.1749999976758525, array([[ 0.05 ],\n",
       "        [ 0.   ],\n",
       "        [-0.025],\n",
       "        ...,\n",
       "        [ 0.   ],\n",
       "        [ 0.025],\n",
       "        [ 0.2  ]]))"
      ]
     },
     "execution_count": 9,
     "metadata": {},
     "output_type": "execute_result"
    }
   ],
   "source": [
    "Xinput = Xtrain\n",
    "l1 = 1/(1+np.exp(-(np.dot(scale(Xinput,Xmin,Xmax),syn0))))\n",
    "l2 = 1/(1+np.exp(-(np.dot(l1,syn1))))\n",
    "unscale(l2,ymin,ymax),np.mean(unscale(l2,ymin,ymax)),ytrain"
   ]
  },
  {
   "cell_type": "code",
   "execution_count": 10,
   "metadata": {},
   "outputs": [
    {
     "data": {
      "text/plain": [
       "(1556, 1)"
      ]
     },
     "execution_count": 10,
     "metadata": {},
     "output_type": "execute_result"
    }
   ],
   "source": [
    "ytrain.shape"
   ]
  },
  {
   "cell_type": "code",
   "execution_count": 11,
   "metadata": {
    "scrolled": true
   },
   "outputs": [
    {
     "name": "stdout",
     "output_type": "stream",
     "text": [
      "#0\n",
      "\n",
      "Input: \n",
      "[[0.04169659 0.         0.74596774 0.29824561]\n",
      " [0.50035905 1.         0.7016129  0.6716792 ]\n",
      " [0.83393176 1.         0.26612903 0.70676692]\n",
      " ...\n",
      " [0.29187611 1.         0.74193548 0.49373434]\n",
      " [0.37526929 1.         0.75604839 0.55639098]\n",
      " [0.50035905 1.         0.70967742 0.68170426]]\n",
      "Actual Output: \n",
      "[[0.48039216]\n",
      " [0.46078431]\n",
      " [0.45098039]\n",
      " ...\n",
      " [0.46078431]\n",
      " [0.47058824]\n",
      " [0.53921569]]\n",
      "Predicted Output: \n",
      "[[0.02137661]\n",
      " [0.09446513]\n",
      " [0.08133395]\n",
      " ...\n",
      " [0.12878207]\n",
      " [0.10998601]\n",
      " [0.09373699]]\n",
      "Loss: \n",
      "0.15083526199950087\n",
      "\n",
      "\n",
      "#1\n",
      "\n",
      "Input: \n",
      "[[0.04169659 0.         0.74596774 0.29824561]\n",
      " [0.50035905 1.         0.7016129  0.6716792 ]\n",
      " [0.83393176 1.         0.26612903 0.70676692]\n",
      " ...\n",
      " [0.29187611 1.         0.74193548 0.49373434]\n",
      " [0.37526929 1.         0.75604839 0.55639098]\n",
      " [0.50035905 1.         0.70967742 0.68170426]]\n",
      "Actual Output: \n",
      "[[0.48039216]\n",
      " [0.46078431]\n",
      " [0.45098039]\n",
      " ...\n",
      " [0.46078431]\n",
      " [0.47058824]\n",
      " [0.53921569]]\n",
      "Predicted Output: \n",
      "[[1.]\n",
      " [1.]\n",
      " [1.]\n",
      " ...\n",
      " [1.]\n",
      " [1.]\n",
      " [1.]]\n",
      "Loss: \n",
      "0.2917098176047025\n",
      "\n",
      "\n",
      "#2\n",
      "\n",
      "Input: \n",
      "[[0.04169659 0.         0.74596774 0.29824561]\n",
      " [0.50035905 1.         0.7016129  0.6716792 ]\n",
      " [0.83393176 1.         0.26612903 0.70676692]\n",
      " ...\n",
      " [0.29187611 1.         0.74193548 0.49373434]\n",
      " [0.37526929 1.         0.75604839 0.55639098]\n",
      " [0.50035905 1.         0.70967742 0.68170426]]\n",
      "Actual Output: \n",
      "[[0.48039216]\n",
      " [0.46078431]\n",
      " [0.45098039]\n",
      " ...\n",
      " [0.46078431]\n",
      " [0.47058824]\n",
      " [0.53921569]]\n",
      "Predicted Output: \n",
      "[[1.]\n",
      " [1.]\n",
      " [1.]\n",
      " ...\n",
      " [1.]\n",
      " [1.]\n",
      " [1.]]\n",
      "Loss: \n",
      "0.2917098176047025\n",
      "\n",
      "\n",
      "#3\n",
      "\n",
      "Input: \n",
      "[[0.04169659 0.         0.74596774 0.29824561]\n",
      " [0.50035905 1.         0.7016129  0.6716792 ]\n",
      " [0.83393176 1.         0.26612903 0.70676692]\n",
      " ...\n",
      " [0.29187611 1.         0.74193548 0.49373434]\n",
      " [0.37526929 1.         0.75604839 0.55639098]\n",
      " [0.50035905 1.         0.70967742 0.68170426]]\n",
      "Actual Output: \n",
      "[[0.48039216]\n",
      " [0.46078431]\n",
      " [0.45098039]\n",
      " ...\n",
      " [0.46078431]\n",
      " [0.47058824]\n",
      " [0.53921569]]\n",
      "Predicted Output: \n",
      "[[1.]\n",
      " [1.]\n",
      " [1.]\n",
      " ...\n",
      " [1.]\n",
      " [1.]\n",
      " [1.]]\n",
      "Loss: \n",
      "0.2917098176047025\n",
      "\n",
      "\n",
      "#4\n",
      "\n",
      "Input: \n",
      "[[0.04169659 0.         0.74596774 0.29824561]\n",
      " [0.50035905 1.         0.7016129  0.6716792 ]\n",
      " [0.83393176 1.         0.26612903 0.70676692]\n",
      " ...\n",
      " [0.29187611 1.         0.74193548 0.49373434]\n",
      " [0.37526929 1.         0.75604839 0.55639098]\n",
      " [0.50035905 1.         0.70967742 0.68170426]]\n",
      "Actual Output: \n",
      "[[0.48039216]\n",
      " [0.46078431]\n",
      " [0.45098039]\n",
      " ...\n",
      " [0.46078431]\n",
      " [0.47058824]\n",
      " [0.53921569]]\n",
      "Predicted Output: \n",
      "[[1.]\n",
      " [1.]\n",
      " [1.]\n",
      " ...\n",
      " [1.]\n",
      " [1.]\n",
      " [1.]]\n",
      "Loss: \n",
      "0.2917098176047025\n",
      "\n",
      "\n",
      "#5\n",
      "\n",
      "Input: \n",
      "[[0.04169659 0.         0.74596774 0.29824561]\n",
      " [0.50035905 1.         0.7016129  0.6716792 ]\n",
      " [0.83393176 1.         0.26612903 0.70676692]\n",
      " ...\n",
      " [0.29187611 1.         0.74193548 0.49373434]\n",
      " [0.37526929 1.         0.75604839 0.55639098]\n",
      " [0.50035905 1.         0.70967742 0.68170426]]\n",
      "Actual Output: \n",
      "[[0.48039216]\n",
      " [0.46078431]\n",
      " [0.45098039]\n",
      " ...\n",
      " [0.46078431]\n",
      " [0.47058824]\n",
      " [0.53921569]]\n",
      "Predicted Output: \n",
      "[[1.]\n",
      " [1.]\n",
      " [1.]\n",
      " ...\n",
      " [1.]\n",
      " [1.]\n",
      " [1.]]\n",
      "Loss: \n",
      "0.2917098176047025\n",
      "\n",
      "\n",
      "#6\n",
      "\n",
      "Input: \n",
      "[[0.04169659 0.         0.74596774 0.29824561]\n",
      " [0.50035905 1.         0.7016129  0.6716792 ]\n",
      " [0.83393176 1.         0.26612903 0.70676692]\n",
      " ...\n",
      " [0.29187611 1.         0.74193548 0.49373434]\n",
      " [0.37526929 1.         0.75604839 0.55639098]\n",
      " [0.50035905 1.         0.70967742 0.68170426]]\n",
      "Actual Output: \n",
      "[[0.48039216]\n",
      " [0.46078431]\n",
      " [0.45098039]\n",
      " ...\n",
      " [0.46078431]\n",
      " [0.47058824]\n",
      " [0.53921569]]\n",
      "Predicted Output: \n",
      "[[1.]\n",
      " [1.]\n",
      " [1.]\n",
      " ...\n",
      " [1.]\n",
      " [1.]\n",
      " [1.]]\n",
      "Loss: \n",
      "0.2917098176047025\n",
      "\n",
      "\n",
      "#7\n",
      "\n",
      "Input: \n",
      "[[0.04169659 0.         0.74596774 0.29824561]\n",
      " [0.50035905 1.         0.7016129  0.6716792 ]\n",
      " [0.83393176 1.         0.26612903 0.70676692]\n",
      " ...\n",
      " [0.29187611 1.         0.74193548 0.49373434]\n",
      " [0.37526929 1.         0.75604839 0.55639098]\n",
      " [0.50035905 1.         0.70967742 0.68170426]]\n",
      "Actual Output: \n",
      "[[0.48039216]\n",
      " [0.46078431]\n",
      " [0.45098039]\n",
      " ...\n",
      " [0.46078431]\n",
      " [0.47058824]\n",
      " [0.53921569]]\n",
      "Predicted Output: \n",
      "[[1.]\n",
      " [1.]\n",
      " [1.]\n",
      " ...\n",
      " [1.]\n",
      " [1.]\n",
      " [1.]]\n",
      "Loss: \n",
      "0.2917098176047025\n",
      "\n",
      "\n",
      "#8\n",
      "\n",
      "Input: \n",
      "[[0.04169659 0.         0.74596774 0.29824561]\n",
      " [0.50035905 1.         0.7016129  0.6716792 ]\n",
      " [0.83393176 1.         0.26612903 0.70676692]\n",
      " ...\n",
      " [0.29187611 1.         0.74193548 0.49373434]\n",
      " [0.37526929 1.         0.75604839 0.55639098]\n",
      " [0.50035905 1.         0.70967742 0.68170426]]\n",
      "Actual Output: \n",
      "[[0.48039216]\n",
      " [0.46078431]\n",
      " [0.45098039]\n",
      " ...\n",
      " [0.46078431]\n",
      " [0.47058824]\n",
      " [0.53921569]]\n",
      "Predicted Output: \n",
      "[[1.]\n",
      " [1.]\n",
      " [1.]\n",
      " ...\n",
      " [1.]\n",
      " [1.]\n",
      " [1.]]\n",
      "Loss: \n",
      "0.2917098176047025\n",
      "\n",
      "\n",
      "#9\n",
      "\n",
      "Input: \n",
      "[[0.04169659 0.         0.74596774 0.29824561]\n",
      " [0.50035905 1.         0.7016129  0.6716792 ]\n",
      " [0.83393176 1.         0.26612903 0.70676692]\n",
      " ...\n",
      " [0.29187611 1.         0.74193548 0.49373434]\n",
      " [0.37526929 1.         0.75604839 0.55639098]\n",
      " [0.50035905 1.         0.70967742 0.68170426]]\n",
      "Actual Output: \n",
      "[[0.48039216]\n",
      " [0.46078431]\n",
      " [0.45098039]\n",
      " ...\n",
      " [0.46078431]\n",
      " [0.47058824]\n",
      " [0.53921569]]\n",
      "Predicted Output: \n",
      "[[1.]\n",
      " [1.]\n",
      " [1.]\n",
      " ...\n",
      " [1.]\n",
      " [1.]\n",
      " [1.]]\n",
      "Loss: \n",
      "0.2917098176047025\n",
      "\n",
      "\n"
     ]
    }
   ],
   "source": [
    "NN = Neural_Network(inputSize=4,ymax=1)\n",
    "for i in range(10): # trains the NN 100,000 times\n",
    "  print (\"#\" + str(i) + \"\\n\")\n",
    "  print (\"Input: \\n\" + str(scale(Xtrain,Xmin,Xmax)))\n",
    "  print (\"Actual Output: \\n\" + str(scale(ytrain,ymin,ymax)))\n",
    "  print (\"Predicted Output: \\n\" + str(NN.forward(scale(Xtrain,Xmin,Xmax))))\n",
    "  print (\"Loss: \\n\" + str(np.mean(np.square(scale(ytrain,ymin,ymax) - NN.forward(scale(Xtrain,Xmin,Xmax)))))) # mean sum squared loss\n",
    "  print (\"\\n\")\n",
    "  NN.train(scale(Xtrain,Xmin,Xmax), scale(ytrain,ymin,ymax))"
   ]
  },
  {
   "cell_type": "code",
   "execution_count": 12,
   "metadata": {},
   "outputs": [
    {
     "data": {
      "text/plain": [
       "[<matplotlib.lines.Line2D at 0x7f4f9052e3c8>]"
      ]
     },
     "execution_count": 12,
     "metadata": {},
     "output_type": "execute_result"
    },
    {
     "data": {
      "image/png": "[encoded data removed]",
      "text/plain": [
       "<Figure size 1440x720 with 1 Axes>"
      ]
     },
     "metadata": {},
     "output_type": "display_data"
    }
   ],
   "source": [
    "plt.rcParams[\"figure.figsize\"] = [20.0,10.0]\n",
    "plt.axhline(y=0, color='k')\n",
    "plt.plot(ytest)\n",
    "#plt.plot(regr.predict(Xtest))"
   ]
  },
  {
   "cell_type": "code",
   "execution_count": 13,
   "metadata": {},
   "outputs": [
    {
     "ename": "NameError",
     "evalue": "name 'regr' is not defined",
     "output_type": "error",
     "traceback": [
      "\u001b[0;31m---------------------------------------------------------------------------\u001b[0m",
      "\u001b[0;31mNameError\u001b[0m                                 Traceback (most recent call last)",
      "\u001b[0;32m<ipython-input-13-9bb28320975a>\u001b[0m in \u001b[0;36m<module>\u001b[0;34m()\u001b[0m\n\u001b[0;32m----> 1\u001b[0;31m \u001b[0;36m1\u001b[0m\u001b[0;34m-\u001b[0m\u001b[0mregr\u001b[0m\u001b[0;34m.\u001b[0m\u001b[0mscore\u001b[0m\u001b[0;34m(\u001b[0m\u001b[0mXtest\u001b[0m\u001b[0;34m,\u001b[0m\u001b[0mytest\u001b[0m\u001b[0;34m)\u001b[0m\u001b[0;34m\u001b[0m\u001b[0m\n\u001b[0m",
      "\u001b[0;31mNameError\u001b[0m: name 'regr' is not defined"
     ]
    }
   ],
   "source": [
    "1-regr.score(Xtest,ytest)"
   ]
  },
  {
   "cell_type": "code",
   "execution_count": null,
   "metadata": {},
   "outputs": [],
   "source": [
    "raw_data.nlargest(10, 'Temp_1H')"
   ]
  },
  {
   "cell_type": "code",
   "execution_count": null,
   "metadata": {},
   "outputs": [],
   "source": [
    "for i in range(0,100):\n",
    "    print(str(regr.predict(Xtest)[i]) + \" | \" + str(ytest[i]))"
   ]
  },
  {
   "cell_type": "code",
   "execution_count": null,
   "metadata": {},
   "outputs": [],
   "source": [
    "np.array(([0], [1], [2], [3]), dtype=float)"
   ]
  },
  {
   "cell_type": "code",
   "execution_count": null,
   "metadata": {},
   "outputs": [],
   "source": [
    "NN.W1"
   ]
  },
  {
   "cell_type": "code",
   "execution_count": null,
   "metadata": {},
   "outputs": [],
   "source": [
    "#raw_data.to_csv('compiled.csv')\n",
    "Xtrain"
   ]
  },
  {
   "cell_type": "code",
   "execution_count": null,
   "metadata": {},
   "outputs": [],
   "source": [
    "np.dot(Xtrain,np.diag([2,1,1,1]))"
   ]
  },
  {
   "cell_type": "code",
   "execution_count": null,
   "metadata": {},
   "outputs": [],
   "source": [
    "#Xmin = np.min(Xtrain,axis=0)\n",
    "#Xtst = Xtrain-Xmin\n",
    "#Xmax = np.max(Xtrain-Xmin,axis=0)\n",
    "Xtst = np.dot(Xtrain-np.min(Xtrain,axis=0),np.diag(1/np.max(Xtrain-np.min(Xtrain,axis=0),axis=0)))\n",
    "#Xtst,np.min(Xtst,axis=0),np.max(Xtst,axis=0),Xmin,Xmax\n",
    "Xtst"
   ]
  },
  {
   "cell_type": "code",
   "execution_count": null,
   "metadata": {},
   "outputs": [],
   "source": [
    "np.dot(Xtst,np.diag(Xmax))+Xmin"
   ]
  },
  {
   "cell_type": "code",
   "execution_count": null,
   "metadata": {},
   "outputs": [],
   "source": [
    "np.dot(scale(Xtrain,Xmin,Xmax),syn0)"
   ]
  },
  {
   "cell_type": "code",
   "execution_count": null,
   "metadata": {},
   "outputs": [],
   "source": [
    "def scale(X,Xmin,Xmax):\n",
    "    return np.dot(X-Xmin,np.diag(1/Xmax))"
   ]
  },
  {
   "cell_type": "code",
   "execution_count": null,
   "metadata": {},
   "outputs": [],
   "source": [
    "def unscale(X,Xmin,Xmax):\n",
    "    return np.dot(X,np.diag(Xmax))+Xmin"
   ]
  },
  {
   "cell_type": "code",
   "execution_count": null,
   "metadata": {},
   "outputs": [],
   "source": [
    "Xmin,Xmax = xMinMax(Xtrain)\n",
    "Xtst = scale(Xtrain,Xmin,Xmax)\n",
    "Xtrain,Xtst,unscale(Xtst,Xmin,Xmax)"
   ]
  },
  {
   "cell_type": "code",
   "execution_count": null,
   "metadata": {},
   "outputs": [],
   "source": []
  }
 ],
 "metadata": {
  "kernelspec": {
   "display_name": "Python 3",
   "language": "python",
   "name": "python3"
  },
  "language_info": {
   "codemirror_mode": {
    "name": "ipython",
    "version": 3
   },
   "file_extension": ".py",
   "mimetype": "text/x-python",
   "name": "python",
   "nbconvert_exporter": "python",
   "pygments_lexer": "ipython3",
   "version": "3.6.6"
  }
 },
 "nbformat": 4,
 "nbformat_minor": 2
}
