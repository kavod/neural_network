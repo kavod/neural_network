{
 "cells": [
  {
   "cell_type": "code",
   "execution_count": 27,
   "metadata": {},
   "outputs": [
    {
     "name": "stdout",
     "output_type": "stream",
     "text": [
      "Error:0.49641003190272537\n"
     ]
    }
   ],
   "source": [
    "import numpy as np\n",
    "import matplotlib.pyplot as plt\n",
    "from mpl_toolkits.mplot3d import Axes3D\n",
    "\n",
    "def nonlin(x,deriv=False):\n",
    "\tif(deriv==True):\n",
    "\t    return x*(1-x)\n",
    "\treturn 1/(1+np.exp(-x))\n",
    "\n",
    "#def nonlin(x,deriv=False):\n",
    "#\tif(deriv==True):\n",
    "#\t    return 1 - np.square(x)\n",
    "#\treturn 2/(1+np.exp(-2*x))-1\n",
    "    \n",
    "X = np.array([[0,0,1],\n",
    "            [0,1,1],\n",
    "            [1,0,1],\n",
    "            [1,1,1]])\n",
    "                \n",
    "y = np.array([[0],\n",
    "\t\t\t[1],\n",
    "\t\t\t[1],\n",
    "\t\t\t[0]])\n",
    "\n",
    "np.random.seed(1)\n",
    "\n",
    "# randomly initialize our weights with mean 0\n",
    "syn0 = 2*np.random.random((3,4)) - 1\n",
    "syn1 = 2*np.random.random((4,1)) - 1\n",
    "\n",
    "for j in range(6000):\n",
    "\n",
    "\t# Feed forward through layers 0, 1, and 2\n",
    "    l0 = X\n",
    "    l1 = nonlin(np.dot(l0,syn0))\n",
    "    l2 = nonlin(np.dot(l1,syn1))\n",
    "\n",
    "    # how much did we miss the target value?\n",
    "    l2_error = y - l2\n",
    "    \n",
    "    if (j% 10000) == 0:\n",
    "        print(\"Error:\" + str(np.mean(np.abs(l2_error))))\n",
    "        \n",
    "    # in what direction is the target value?\n",
    "    # were we really sure? if so, don't change too much.\n",
    "    l2_delta = l2_error*nonlin(l2,deriv=True)\n",
    "\n",
    "    # how much did each l1 value contribute to the l2 error (according to the weights)?\n",
    "    l1_error = l2_delta.dot(syn1.T)\n",
    "    \n",
    "    # in what direction is the target l1?\n",
    "    # were we really sure? if so, don't change too much.\n",
    "    l1_delta = l1_error * nonlin(l1,deriv=True)\n",
    "\n",
    "    syn1 += l1.T.dot(l2_delta)\n",
    "    syn0 += l0.T.dot(l1_delta)\n",
    "\n"
   ]
  },
  {
   "cell_type": "code",
   "execution_count": 26,
   "metadata": {},
   "outputs": [
    {
     "data": {
      "text/plain": [
       "(array([[ 0.01726822, -0.02229526,  0.02772761, -0.00972897],\n",
       "        [-0.0154265 ,  0.02113446, -0.02592628,  0.01087391],\n",
       "        [-0.01615584,  0.02001969, -0.01942197,  0.00964382],\n",
       "        [ 0.01511901, -0.02498445,  0.01566774, -0.01119926]]),\n",
       " array([[-0.11810546],\n",
       "        [ 0.12769844],\n",
       "        [ 0.11316304],\n",
       "        [-0.13508831]]))"
      ]
     },
     "execution_count": 26,
     "metadata": {},
     "output_type": "execute_result"
    }
   ],
   "source": [
    "l1_delta,l2_delta"
   ]
  },
  {
   "cell_type": "code",
   "execution_count": 25,
   "metadata": {},
   "outputs": [
    {
     "data": {
      "text/plain": [
       "(array([[ 0.0698116 , -0.08931546,  0.11163621, -0.04026629],\n",
       "        [-0.07548197,  0.09657001, -0.12070373,  0.04353687],\n",
       "        [-0.06689016,  0.08557784, -0.10696451,  0.03858124],\n",
       "        [ 0.07985009, -0.10215849,  0.12768882, -0.04605634]]),\n",
       " array([[-0.47372957],\n",
       "        [ 0.51104304],\n",
       "        [ 0.45615914],\n",
       "        [-0.54470837]]))"
      ]
     },
     "execution_count": 25,
     "metadata": {},
     "output_type": "execute_result"
    }
   ],
   "source": [
    "l1_error,l2_error"
   ]
  },
  {
   "cell_type": "code",
   "execution_count": 28,
   "metadata": {},
   "outputs": [
    {
     "data": {
      "text/plain": [
       "(array([[6.10524658e-01, 1.44907724e-01, 9.14992118e-01, 9.93552607e-01],\n",
       "        [2.20854326e-01, 7.45384403e-04, 1.90960065e-02, 8.81580913e-01],\n",
       "        [9.86867240e-01, 8.66222814e-01, 2.59547378e-02, 7.70289973e-01],\n",
       "        [9.31452154e-01, 2.77120126e-02, 4.81919470e-05, 1.39412883e-01]]),\n",
       " array([[0.00953041],\n",
       "        [0.98777208],\n",
       "        [0.98944359],\n",
       "        [0.01422542]]))"
      ]
     },
     "execution_count": 28,
     "metadata": {},
     "output_type": "execute_result"
    }
   ],
   "source": [
    "l1,l2"
   ]
  },
  {
   "cell_type": "code",
   "execution_count": 213,
   "metadata": {},
   "outputs": [
    {
     "name": "stdout",
     "output_type": "stream",
     "text": [
      "Error:0.24745020606438414\n",
      "Error:1.491862189340054e-16\n",
      "Error:1.249000902703301e-16\n",
      "Error:1.249000902703301e-16\n",
      "Error:1.249000902703301e-16\n",
      "Error:1.249000902703301e-16\n"
     ]
    },
    {
     "data": {
      "text/plain": [
       "array([[1.],\n",
       "       [2.],\n",
       "       [3.],\n",
       "       [4.]])"
      ]
     },
     "execution_count": 213,
     "metadata": {},
     "output_type": "execute_result"
    }
   ],
   "source": [
    "X = np.array([[0,0,0,1,0,\n",
    "               0,0,1,1,0,\n",
    "               0,1,0,1,0,\n",
    "               0,0,0,1,0,\n",
    "               0,0,1,1,1],\n",
    "              [0,0,1,1,0,\n",
    "               0,1,0,0,1,\n",
    "               0,0,0,1,0,\n",
    "               0,0,1,0,0,\n",
    "               0,1,1,1,1],\n",
    "              [0,1,1,1,1,\n",
    "               0,0,0,1,0,\n",
    "               0,0,1,1,0,\n",
    "               0,0,0,0,1,\n",
    "               0,1,1,1,0],\n",
    "              [0,0,0,1,0,\n",
    "               0,0,1,1,0,\n",
    "               0,1,0,1,0,\n",
    "               1,1,1,1,1,\n",
    "               0,0,0,1,0]\n",
    "             ])\n",
    "                \n",
    "y = np.array([[1],\n",
    "\t\t\t[2],\n",
    "\t\t\t[3],\n",
    "            [4]])\n",
    "\n",
    "def nonlin(x,deriv=False):\n",
    "\tif(deriv==True):\n",
    "\t    return 1 - np.square(x)\n",
    "\treturn 2/(1+np.exp(-2*x))-1\n",
    "\n",
    "def nonlin(x,deriv=False):\n",
    "\tif(deriv==True):\n",
    "\t    return x*(1-x)\n",
    "\treturn 1/(1+np.exp(-x))\n",
    "\n",
    "\n",
    "\n",
    "np.random.seed(1)\n",
    "\n",
    "# randomly initialize our weights with mean 0\n",
    "syn0 = 2*np.random.random((25,4)) - 1\n",
    "syn1 = 2*np.random.random((4,1)) - 1\n",
    "\n",
    "for j in range(60000):\n",
    "\n",
    "\t# Feed forward through layers 0, 1, and 2\n",
    "    l0 = X\n",
    "    l1 = nonlin(np.dot(l0,syn0))\n",
    "    l2 = nonlin(np.dot(l1,syn1))\n",
    "\n",
    "    # how much did we miss the target value?\n",
    "    l2_error = y/10 - l2\n",
    "    \n",
    "    if (j% 10000) == 0:\n",
    "        print(\"Error:\" + str(np.mean(np.abs(l2_error))))\n",
    "        \n",
    "    # in what direction is the target value?\n",
    "    # were we really sure? if so, don't change too much.\n",
    "    l2_delta = l2_error*nonlin(l2,deriv=True)\n",
    "\n",
    "    # how much did each l1 value contribute to the l2 error (according to the weights)?\n",
    "    l1_error = l2_delta.dot(syn1.T)\n",
    "    \n",
    "    # in what direction is the target l1?\n",
    "    # were we really sure? if so, don't change too much.\n",
    "    l1_delta = l1_error * nonlin(l1,deriv=True)\n",
    "\n",
    "    syn1 += l1.T.dot(l2_delta)\n",
    "    syn0 += l0.T.dot(l1_delta)\n",
    "l2*10"
   ]
  },
  {
   "cell_type": "code",
   "execution_count": 215,
   "metadata": {},
   "outputs": [
    {
     "name": "stdout",
     "output_type": "stream",
     "text": [
      "Error:0.2823848519087723\n",
      "Error:0.008553742466108516\n",
      "Error:0.008449294606243211\n",
      "Error:0.008402146841365539\n",
      "Error:0.00837287564303308\n",
      "Error:0.008352058482396292\n"
     ]
    },
    {
     "data": {
      "text/plain": [
       "array([[0.2030894 ],\n",
       "       [0.3906127 ],\n",
       "       [0.61286621],\n",
       "       [0.79199827]])"
      ]
     },
     "execution_count": 215,
     "metadata": {},
     "output_type": "execute_result"
    }
   ],
   "source": [
    "X = np.array([[0.1],\n",
    "              [0.2],\n",
    "              [0.3],\n",
    "              [0.4]\n",
    "             ])\n",
    "                \n",
    "y = np.array([[0.2],\n",
    "\t\t\t[0.4],\n",
    "\t\t\t[0.6],\n",
    "            [0.8]])\n",
    "\n",
    "def nonlin(x,deriv=False):\n",
    "\tif(deriv==True):\n",
    "\t    return 1 - np.square(x)\n",
    "\treturn 2/(1+np.exp(-2*x))-1\n",
    "\n",
    "def nonlin(x,deriv=False):\n",
    "\tif(deriv==True):\n",
    "\t    return x*(1-x)\n",
    "\treturn 1/(1+np.exp(-x))\n",
    "\n",
    "\n",
    "np.random.seed(1)\n",
    "\n",
    "# randomly initialize our weights with mean 0\n",
    "syn0 = 2*np.random.random((1,4)) - 1\n",
    "syn1 = 2*np.random.random((4,1)) - 1\n",
    "\n",
    "output = []\n",
    "for i in range(4):\n",
    "    output.append([])\n",
    "    \n",
    "for j in range(600000):\n",
    "\n",
    "\t# Feed forward through layers 0, 1, and 2\n",
    "    l0 = X\n",
    "    l1 = nonlin(np.dot(l0,syn0))\n",
    "    l2 = nonlin(np.dot(l1,syn1))\n",
    "\n",
    "    # how much did we miss the target value?\n",
    "    l2_error = y - l2\n",
    "    \n",
    "    if (j% 100000) == 0:\n",
    "        print(\"Error:\" + str(np.mean(np.abs(l2_error))))\n",
    "        \n",
    "    # in what direction is the target value?\n",
    "    # were we really sure? if so, don't change too much.\n",
    "    l2_delta = l2_error*nonlin(l2,deriv=True)\n",
    "\n",
    "    # how much did each l1 value contribute to the l2 error (according to the weights)?\n",
    "    l1_error = l2_delta.dot(syn1.T)\n",
    "    \n",
    "    # in what direction is the target l1?\n",
    "    # were we really sure? if so, don't change too much.\n",
    "    l1_delta = l1_error * nonlin(l1,deriv=True)\n",
    "\n",
    "    syn1 += l1.T.dot(l2_delta)\n",
    "    syn0 += l0.T.dot(l1_delta)\n",
    "    \n",
    "    if (j% 10000) == 0:\n",
    "        for i in range(4):\n",
    "            output[i].append(l2[i][0])\n",
    "l2"
   ]
  },
  {
   "cell_type": "code",
   "execution_count": 209,
   "metadata": {},
   "outputs": [
    {
     "data": {
      "image/png": "[encoded data removed]",
      "text/plain": [
       "<Figure size 432x288 with 1 Axes>"
      ]
     },
     "metadata": {},
     "output_type": "display_data"
    }
   ],
   "source": [
    "plt.plot(range(60),[0.2]*60)\n",
    "plt.plot(range(60),[0.4]*60)\n",
    "plt.plot(range(60),[0.6]*60)\n",
    "plt.plot(range(60),[0.8]*60)\n",
    "for i in range(4):\n",
    "    plt.plot(range(60),output[i])\n",
    "plt.show()"
   ]
  },
  {
   "cell_type": "code",
   "execution_count": 47,
   "metadata": {},
   "outputs": [
    {
     "name": "stderr",
     "output_type": "stream",
     "text": [
      "/home/boris/anaconda3/lib/python3.6/site-packages/sklearn/cross_validation.py:41: DeprecationWarning: This module was deprecated in version 0.18 in favor of the model_selection module into which all the refactored classes and functions are moved. Also note that the interface of the new CV iterators are different from that of this module. This module will be removed in 0.20.\n",
      "  \"This module will be removed in 0.20.\", DeprecationWarning)\n"
     ]
    }
   ],
   "source": [
    "import pandas as pd\n",
    "from sklearn.cross_validation import train_test_split"
   ]
  },
  {
   "cell_type": "code",
   "execution_count": 45,
   "metadata": {},
   "outputs": [
    {
     "data": {
      "text/html": [
       "<div>\n",
       "<style scoped>\n",
       "    .dataframe tbody tr th:only-of-type {\n",
       "        vertical-align: middle;\n",
       "    }\n",
       "\n",
       "    .dataframe tbody tr th {\n",
       "        vertical-align: top;\n",
       "    }\n",
       "\n",
       "    .dataframe thead th {\n",
       "        text-align: right;\n",
       "    }\n",
       "</style>\n",
       "<table border=\"1\" class=\"dataframe\">\n",
       "  <thead>\n",
       "    <tr style=\"text-align: right;\">\n",
       "      <th></th>\n",
       "      <th>dateTime</th>\n",
       "      <th>Ouverture</th>\n",
       "      <th>Chamb_Temp</th>\n",
       "      <th>Lyon_Temp</th>\n",
       "      <th>Temp_1H</th>\n",
       "    </tr>\n",
       "  </thead>\n",
       "  <tbody>\n",
       "    <tr>\n",
       "      <th>0</th>\n",
       "      <td>0</td>\n",
       "      <td>0.0</td>\n",
       "      <td>19.200</td>\n",
       "      <td>0.550</td>\n",
       "      <td>0.000</td>\n",
       "    </tr>\n",
       "    <tr>\n",
       "      <th>1</th>\n",
       "      <td>3600</td>\n",
       "      <td>0.0</td>\n",
       "      <td>19.200</td>\n",
       "      <td>0.250</td>\n",
       "      <td>0.025</td>\n",
       "    </tr>\n",
       "    <tr>\n",
       "      <th>2</th>\n",
       "      <td>7200</td>\n",
       "      <td>0.0</td>\n",
       "      <td>19.225</td>\n",
       "      <td>0.025</td>\n",
       "      <td>0.075</td>\n",
       "    </tr>\n",
       "    <tr>\n",
       "      <th>3</th>\n",
       "      <td>10800</td>\n",
       "      <td>0.0</td>\n",
       "      <td>19.300</td>\n",
       "      <td>-0.225</td>\n",
       "      <td>0.000</td>\n",
       "    </tr>\n",
       "    <tr>\n",
       "      <th>4</th>\n",
       "      <td>14400</td>\n",
       "      <td>0.0</td>\n",
       "      <td>19.300</td>\n",
       "      <td>-0.400</td>\n",
       "      <td>0.000</td>\n",
       "    </tr>\n",
       "  </tbody>\n",
       "</table>\n",
       "</div>"
      ],
      "text/plain": [
       "   dateTime  Ouverture  Chamb_Temp  Lyon_Temp  Temp_1H\n",
       "0         0        0.0      19.200      0.550    0.000\n",
       "1      3600        0.0      19.200      0.250    0.025\n",
       "2      7200        0.0      19.225      0.025    0.075\n",
       "3     10800        0.0      19.300     -0.225    0.000\n",
       "4     14400        0.0      19.300     -0.400    0.000"
      ]
     },
     "execution_count": 45,
     "metadata": {},
     "output_type": "execute_result"
    }
   ],
   "source": [
    "cols=['dateTime','Ouverture','Chamb_Temp','Lyon_Temp']\n",
    "parse_dates = ['dateTime']\n",
    "#raw_data = pd.read_csv('temperatures2.csv', skiprows=[0],names=cols,decimal=\",\",sep=\";\", parse_dates=parse_dates)\n",
    "raw_data = pd.read_csv('compiled.csv',usecols=range(1,6))\n",
    "raw_data.head()"
   ]
  },
  {
   "cell_type": "code",
   "execution_count": 116,
   "metadata": {},
   "outputs": [],
   "source": [
    "data = raw_data[raw_data['Temp_1H']<1.]"
   ]
  },
  {
   "cell_type": "code",
   "execution_count": 238,
   "metadata": {},
   "outputs": [
    {
     "data": {
      "text/plain": [
       "((1555, 1), (389, 1), (1555,), (389,))"
      ]
     },
     "execution_count": 238,
     "metadata": {},
     "output_type": "execute_result"
    }
   ],
   "source": [
    "X = data.values[:,[0]]\n",
    "y = data.values[:,4]\n",
    "Xtrain, Xtest, ytrain, ytest = train_test_split(X,y,train_size=0.8)\n",
    "Xtrain.shape, Xtest.shape, ytrain.shape, ytest.shape"
   ]
  },
  {
   "cell_type": "code",
   "execution_count": 197,
   "metadata": {},
   "outputs": [],
   "source": [
    "def xMinMax(X):\n",
    "    return np.min(X,axis=0),np.max(X-np.min(X,axis=0),axis=0)\n",
    "def scale(X,Xmin,Xmax):\n",
    "    return np.dot(X-Xmin,np.diag(1/Xmax))\n",
    "def unscale(X,Xmin,Xmax):\n",
    "    return np.dot(X,np.diag(Xmax))+Xmin"
   ]
  },
  {
   "cell_type": "code",
   "execution_count": 239,
   "metadata": {},
   "outputs": [],
   "source": [
    "Xmin,Xmax = xMinMax(Xtrain)\n",
    "ymin,ymax = xMinMax(ytrain.reshape((ytrain.shape[0],1)))"
   ]
  },
  {
   "cell_type": "code",
   "execution_count": 252,
   "metadata": {},
   "outputs": [
    {
     "name": "stdout",
     "output_type": "stream",
     "text": [
      "Error:0.5020295571775454\n",
      "Error:nan\n",
      "Error:nan\n",
      "Error:nan\n",
      "Error:nan\n",
      "Error:nan\n",
      "Error:nan\n",
      "Error:nan\n",
      "Error:nan\n",
      "Error:nan\n"
     ]
    },
    {
     "data": {
      "text/plain": [
       "[<matplotlib.lines.Line2D at 0x7f306421c0f0>]"
      ]
     },
     "execution_count": 252,
     "metadata": {},
     "output_type": "execute_result"
    },
    {
     "data": {
      "image/png": "[encoded data removed]",
      "text/plain": [
       "<Figure size 432x288 with 1 Axes>"
      ]
     },
     "metadata": {},
     "output_type": "display_data"
    }
   ],
   "source": [
    "X = scale(Xtrain,Xmin,Xmax)\n",
    "                \n",
    "y = scale(ytrain.reshape((ytrain.shape[0],1)),ymin,ymax)\n",
    "\n",
    "nb_cycle = 1000\n",
    "\n",
    "lerror = []\n",
    "\n",
    "def nonlin(x,deriv=False):\n",
    "\tif(deriv==True):\n",
    "\t    return x*(1-x)\n",
    "\treturn 1/(1+np.exp(-x))\n",
    "\n",
    "def nonlin(x,deriv=False):\n",
    "\tif(deriv==True):\n",
    "\t    return 1\n",
    "\treturn x\n",
    "\n",
    "np.random.seed(1)\n",
    "\n",
    "# randomly initialize our weights with mean 0\n",
    "syn0 = 2*np.random.random((1,4)) - 1\n",
    "syn1 = 2*np.random.random((4,1)) - 1\n",
    "    \n",
    "for j in range(nb_cycle):\n",
    "\n",
    "\t# Feed forward through layers 0, 1, and 2\n",
    "    l0 = X\n",
    "    l1 = nonlin(np.dot(l0,syn0))\n",
    "    l2 = nonlin(np.dot(l1,syn1))\n",
    "\n",
    "    # how much did we miss the target value?\n",
    "    l2_error = y - l2\n",
    "    lerror.append(np.mean(np.abs(l2_error)))\n",
    "    \n",
    "    if (j% (nb_cycle//10)) == 0:\n",
    "        print(\"Error:\" + str(np.mean(np.abs(l2_error))))\n",
    "        \n",
    "    # in what direction is the target value?\n",
    "    # were we really sure? if so, don't change too much.\n",
    "    l2_delta = l2_error*nonlin(l2,deriv=True)\n",
    "\n",
    "    # how much did each l1 value contribute to the l2 error (according to the weights)?\n",
    "    l1_error = l2_delta.dot(syn1.T)\n",
    "    \n",
    "    # in what direction is the target l1?\n",
    "    # were we really sure? if so, don't change too much.\n",
    "    l1_delta = l1_error * nonlin(l1,deriv=True)\n",
    "\n",
    "    syn1 += l1.T.dot(l2_delta)\n",
    "    syn0 += l0.T.dot(l1_delta)\n",
    "unscale(l2,ymin,ymax)\n",
    "plt.plot(range(nb_cycle),lerror)"
   ]
  },
  {
   "cell_type": "code",
   "execution_count": 250,
   "metadata": {},
   "outputs": [
    {
     "data": {
      "text/plain": [
       "array([[-0.6375],\n",
       "       [-0.6375],\n",
       "       [-0.6375],\n",
       "       [-0.6375],\n",
       "       [-0.6375],\n",
       "       [-0.6375],\n",
       "       [-0.6375],\n",
       "       [-0.6375],\n",
       "       [-0.6375],\n",
       "       [-0.6375],\n",
       "       [-0.6375],\n",
       "       [-0.6375],\n",
       "       [-0.6375],\n",
       "       [-0.6375],\n",
       "       [-0.6375],\n",
       "       [-0.6375],\n",
       "       [-0.6375],\n",
       "       [-0.6375],\n",
       "       [-0.6375],\n",
       "       [-0.6375],\n",
       "       [-0.6375],\n",
       "       [-0.6375],\n",
       "       [-0.6375],\n",
       "       [-0.6375],\n",
       "       [-0.6375],\n",
       "       [-0.6375],\n",
       "       [-0.6375],\n",
       "       [-0.6375],\n",
       "       [-0.6375],\n",
       "       [-0.6375],\n",
       "       [-0.6375],\n",
       "       [-0.6375],\n",
       "       [-0.6375],\n",
       "       [-0.6375],\n",
       "       [-0.6375],\n",
       "       [-0.6375],\n",
       "       [-0.6375],\n",
       "       [-0.6375],\n",
       "       [-0.6375],\n",
       "       [-0.6375],\n",
       "       [-0.6375],\n",
       "       [-0.6375],\n",
       "       [-0.6375],\n",
       "       [-0.6375],\n",
       "       [-0.6375],\n",
       "       [-0.6375],\n",
       "       [-0.6375],\n",
       "       [-0.6375],\n",
       "       [-0.6375],\n",
       "       [-0.6375],\n",
       "       [-0.6375],\n",
       "       [-0.6375],\n",
       "       [-0.6375],\n",
       "       [-0.6375],\n",
       "       [-0.6375],\n",
       "       [-0.6375],\n",
       "       [-0.6375],\n",
       "       [-0.6375],\n",
       "       [-0.6375],\n",
       "       [-0.6375],\n",
       "       [-0.6375],\n",
       "       [-0.6375],\n",
       "       [-0.6375],\n",
       "       [-0.6375],\n",
       "       [-0.6375],\n",
       "       [-0.6375],\n",
       "       [-0.6375],\n",
       "       [-0.6375],\n",
       "       [-0.6375],\n",
       "       [-0.6375],\n",
       "       [-0.6375],\n",
       "       [-0.6375],\n",
       "       [-0.6375],\n",
       "       [-0.6375],\n",
       "       [-0.6375],\n",
       "       [-0.6375],\n",
       "       [-0.6375],\n",
       "       [-0.6375],\n",
       "       [-0.6375],\n",
       "       [-0.6375],\n",
       "       [-0.6375],\n",
       "       [ 0.675 ],\n",
       "       [-0.6375],\n",
       "       [-0.6375],\n",
       "       [-0.6375],\n",
       "       [-0.6375],\n",
       "       [-0.6375],\n",
       "       [-0.6375],\n",
       "       [-0.6375],\n",
       "       [-0.6375],\n",
       "       [-0.6375],\n",
       "       [-0.6375],\n",
       "       [-0.6375],\n",
       "       [-0.6375],\n",
       "       [-0.6375],\n",
       "       [-0.6375],\n",
       "       [-0.6375],\n",
       "       [-0.6375],\n",
       "       [-0.6375],\n",
       "       [-0.6375],\n",
       "       [-0.6375],\n",
       "       [-0.6375],\n",
       "       [-0.6375],\n",
       "       [-0.6375],\n",
       "       [-0.6375],\n",
       "       [-0.6375],\n",
       "       [-0.6375],\n",
       "       [-0.6375],\n",
       "       [-0.6375],\n",
       "       [-0.6375],\n",
       "       [-0.6375],\n",
       "       [-0.6375],\n",
       "       [-0.6375],\n",
       "       [-0.6375],\n",
       "       [-0.6375],\n",
       "       [-0.6375],\n",
       "       [-0.6375],\n",
       "       [-0.6375],\n",
       "       [ 0.675 ],\n",
       "       [-0.6375],\n",
       "       [-0.6375],\n",
       "       [-0.6375],\n",
       "       [-0.6375],\n",
       "       [-0.6375],\n",
       "       [-0.6375],\n",
       "       [-0.6375],\n",
       "       [-0.6375],\n",
       "       [-0.6375],\n",
       "       [-0.6375],\n",
       "       [-0.6375],\n",
       "       [-0.6375],\n",
       "       [-0.6375],\n",
       "       [-0.6375],\n",
       "       [-0.6375],\n",
       "       [-0.6375],\n",
       "       [ 0.675 ],\n",
       "       [-0.6375],\n",
       "       [-0.6375],\n",
       "       [-0.6375],\n",
       "       [-0.6375],\n",
       "       [-0.6375],\n",
       "       [-0.6375],\n",
       "       [-0.6375],\n",
       "       [-0.6375],\n",
       "       [-0.6375],\n",
       "       [-0.6375],\n",
       "       [-0.6375],\n",
       "       [-0.6375],\n",
       "       [-0.6375],\n",
       "       [-0.6375],\n",
       "       [-0.6375],\n",
       "       [-0.6375],\n",
       "       [-0.6375],\n",
       "       [-0.6375],\n",
       "       [-0.6375],\n",
       "       [-0.6375],\n",
       "       [-0.6375],\n",
       "       [-0.6375],\n",
       "       [-0.6375],\n",
       "       [-0.6375],\n",
       "       [-0.6375],\n",
       "       [-0.6375],\n",
       "       [-0.6375],\n",
       "       [-0.6375],\n",
       "       [-0.6375],\n",
       "       [-0.6375],\n",
       "       [-0.6375],\n",
       "       [-0.6375],\n",
       "       [-0.6375],\n",
       "       [-0.6375],\n",
       "       [-0.6375],\n",
       "       [-0.6375],\n",
       "       [-0.6375],\n",
       "       [-0.6375],\n",
       "       [-0.6375],\n",
       "       [-0.6375],\n",
       "       [-0.6375],\n",
       "       [-0.6375],\n",
       "       [-0.6375],\n",
       "       [-0.6375],\n",
       "       [-0.6375],\n",
       "       [-0.6375],\n",
       "       [-0.6375],\n",
       "       [-0.6375],\n",
       "       [-0.6375],\n",
       "       [-0.6375],\n",
       "       [-0.6375],\n",
       "       [-0.6375],\n",
       "       [-0.6375],\n",
       "       [-0.6375],\n",
       "       [-0.6375],\n",
       "       [-0.6375],\n",
       "       [-0.6375],\n",
       "       [-0.6375],\n",
       "       [-0.6375],\n",
       "       [-0.6375],\n",
       "       [-0.6375],\n",
       "       [-0.6375],\n",
       "       [-0.6375],\n",
       "       [-0.6375],\n",
       "       [-0.6375],\n",
       "       [-0.6375],\n",
       "       [-0.6375],\n",
       "       [-0.6375],\n",
       "       [-0.6375],\n",
       "       [-0.6375],\n",
       "       [-0.6375],\n",
       "       [-0.6375],\n",
       "       [ 0.675 ],\n",
       "       [-0.6375],\n",
       "       [-0.6375],\n",
       "       [-0.6375],\n",
       "       [-0.6375],\n",
       "       [-0.6375],\n",
       "       [-0.6375],\n",
       "       [-0.6375],\n",
       "       [-0.6375],\n",
       "       [-0.6375],\n",
       "       [-0.6375],\n",
       "       [-0.6375],\n",
       "       [-0.6375],\n",
       "       [-0.6375],\n",
       "       [-0.6375],\n",
       "       [-0.6375],\n",
       "       [-0.6375],\n",
       "       [-0.6375],\n",
       "       [-0.6375],\n",
       "       [ 0.675 ],\n",
       "       [-0.6375],\n",
       "       [-0.6375],\n",
       "       [-0.6375],\n",
       "       [-0.6375],\n",
       "       [-0.6375],\n",
       "       [-0.6375],\n",
       "       [-0.6375],\n",
       "       [-0.6375],\n",
       "       [-0.6375],\n",
       "       [-0.6375],\n",
       "       [-0.6375],\n",
       "       [-0.6375],\n",
       "       [-0.6375],\n",
       "       [-0.6375],\n",
       "       [ 0.675 ],\n",
       "       [-0.6375],\n",
       "       [-0.6375],\n",
       "       [-0.6375],\n",
       "       [-0.6375],\n",
       "       [-0.6375],\n",
       "       [-0.6375],\n",
       "       [-0.6375],\n",
       "       [-0.6375],\n",
       "       [-0.6375],\n",
       "       [-0.6375],\n",
       "       [-0.6375],\n",
       "       [ 0.675 ],\n",
       "       [-0.6375],\n",
       "       [-0.6375],\n",
       "       [-0.6375],\n",
       "       [-0.6375],\n",
       "       [-0.6375],\n",
       "       [-0.6375],\n",
       "       [-0.6375],\n",
       "       [-0.6375],\n",
       "       [-0.6375],\n",
       "       [-0.6375],\n",
       "       [-0.6375],\n",
       "       [-0.6375],\n",
       "       [-0.6375],\n",
       "       [-0.6375],\n",
       "       [ 0.675 ],\n",
       "       [-0.6375],\n",
       "       [-0.6375],\n",
       "       [-0.6375],\n",
       "       [-0.6375],\n",
       "       [-0.6375],\n",
       "       [-0.6375],\n",
       "       [-0.6375],\n",
       "       [-0.6375],\n",
       "       [-0.6375],\n",
       "       [-0.6375],\n",
       "       [-0.6375],\n",
       "       [-0.6375],\n",
       "       [-0.6375],\n",
       "       [-0.6375],\n",
       "       [-0.6375],\n",
       "       [-0.6375],\n",
       "       [-0.6375],\n",
       "       [-0.6375],\n",
       "       [-0.6375],\n",
       "       [-0.6375],\n",
       "       [-0.6375],\n",
       "       [-0.6375],\n",
       "       [-0.6375],\n",
       "       [-0.6375],\n",
       "       [-0.6375],\n",
       "       [-0.6375],\n",
       "       [-0.6375],\n",
       "       [-0.6375],\n",
       "       [-0.6375],\n",
       "       [-0.6375],\n",
       "       [-0.6375],\n",
       "       [-0.6375],\n",
       "       [-0.6375],\n",
       "       [-0.6375],\n",
       "       [-0.6375],\n",
       "       [-0.6375],\n",
       "       [-0.6375],\n",
       "       [-0.6375],\n",
       "       [-0.6375],\n",
       "       [-0.6375],\n",
       "       [-0.6375],\n",
       "       [-0.6375],\n",
       "       [-0.6375],\n",
       "       [-0.6375],\n",
       "       [-0.6375],\n",
       "       [-0.6375],\n",
       "       [-0.6375],\n",
       "       [-0.6375],\n",
       "       [-0.6375],\n",
       "       [-0.6375],\n",
       "       [-0.6375],\n",
       "       [-0.6375],\n",
       "       [-0.6375],\n",
       "       [-0.6375],\n",
       "       [-0.6375],\n",
       "       [-0.6375],\n",
       "       [-0.6375],\n",
       "       [-0.6375],\n",
       "       [-0.6375],\n",
       "       [-0.6375],\n",
       "       [-0.6375],\n",
       "       [-0.6375],\n",
       "       [-0.6375],\n",
       "       [-0.6375],\n",
       "       [ 0.675 ],\n",
       "       [-0.6375],\n",
       "       [-0.6375],\n",
       "       [-0.6375],\n",
       "       [-0.6375],\n",
       "       [ 0.675 ],\n",
       "       [-0.6375],\n",
       "       [-0.6375],\n",
       "       [ 0.675 ],\n",
       "       [-0.6375],\n",
       "       [-0.6375],\n",
       "       [-0.6375],\n",
       "       [-0.6375],\n",
       "       [-0.6375],\n",
       "       [-0.6375],\n",
       "       [-0.6375],\n",
       "       [-0.6375],\n",
       "       [-0.6375],\n",
       "       [-0.6375],\n",
       "       [-0.6375],\n",
       "       [ 0.675 ],\n",
       "       [-0.6375],\n",
       "       [-0.6375],\n",
       "       [ 0.675 ],\n",
       "       [-0.6375],\n",
       "       [-0.6375],\n",
       "       [-0.6375],\n",
       "       [-0.6375],\n",
       "       [-0.6375],\n",
       "       [-0.6375],\n",
       "       [-0.6375],\n",
       "       [-0.6375],\n",
       "       [-0.6375],\n",
       "       [-0.6375],\n",
       "       [-0.6375],\n",
       "       [-0.6375],\n",
       "       [-0.6375],\n",
       "       [-0.6375],\n",
       "       [-0.6375],\n",
       "       [-0.6375],\n",
       "       [-0.6375],\n",
       "       [-0.6375],\n",
       "       [-0.6375],\n",
       "       [-0.6375],\n",
       "       [-0.6375],\n",
       "       [ 0.675 ],\n",
       "       [-0.6375],\n",
       "       [-0.6375],\n",
       "       [-0.6375],\n",
       "       [-0.6375],\n",
       "       [-0.6375],\n",
       "       [-0.6375],\n",
       "       [-0.6375],\n",
       "       [-0.6375],\n",
       "       [-0.6375]])"
      ]
     },
     "execution_count": 250,
     "metadata": {},
     "output_type": "execute_result"
    }
   ],
   "source": [
    "l0 = Xtest\n",
    "l1 = nonlin(np.dot(l0,syn0))\n",
    "l2 = nonlin(np.dot(l1,syn1))\n",
    "l2 - ytest.reshape((ytest.shape[0],1))\n",
    "unscale(l2,ymin,ymax)"
   ]
  },
  {
   "cell_type": "code",
   "execution_count": 148,
   "metadata": {},
   "outputs": [
    {
     "data": {
      "text/plain": [
       "array([[10.66809083],\n",
       "       [18.94225155]])"
      ]
     },
     "execution_count": 148,
     "metadata": {},
     "output_type": "execute_result"
    }
   ],
   "source": [
    "syn1"
   ]
  },
  {
   "cell_type": "code",
   "execution_count": 185,
   "metadata": {},
   "outputs": [],
   "source": [
    "z = np.copy(ytrain)"
   ]
  },
  {
   "cell_type": "code",
   "execution_count": 186,
   "metadata": {},
   "outputs": [
    {
     "data": {
      "text/plain": [
       "array([1., 0., 1., ..., 0., 1., 0.])"
      ]
     },
     "execution_count": 186,
     "metadata": {},
     "output_type": "execute_result"
    }
   ],
   "source": [
    "z[z<0]=0\n",
    "z[z>0]=1\n",
    "z"
   ]
  },
  {
   "cell_type": "code",
   "execution_count": 233,
   "metadata": {},
   "outputs": [
    {
     "data": {
      "text/plain": [
       "[<matplotlib.lines.Line2D at 0x7f30646b5cf8>]"
      ]
     },
     "execution_count": 233,
     "metadata": {},
     "output_type": "execute_result"
    },
    {
     "data": {
      "image/png": "[encoded data removed]",
      "text/plain": [
       "<Figure size 432x288 with 1 Axes>"
      ]
     },
     "metadata": {},
     "output_type": "display_data"
    }
   ],
   "source": [
    "plt.plot(data[data['Ouverture']==1]['Chamb_Temp'],data[data['Ouverture']==1]['Temp_1H'],'ro',markersize=2,c='red')\n",
    "plt.plot(data[data['Ouverture']==0]['Chamb_Temp'],data[data['Ouverture']==0]['Temp_1H'],'ro',markersize=2,c='blue')"
   ]
  },
  {
   "cell_type": "code",
   "execution_count": 237,
   "metadata": {},
   "outputs": [
    {
     "data": {
      "text/plain": [
       "<mpl_toolkits.mplot3d.art3d.Path3DCollection at 0x7f30644bb4a8>"
      ]
     },
     "execution_count": 237,
     "metadata": {},
     "output_type": "execute_result"
    },
    {
     "data": {
      "image/png": "[encoded data removed]",
      "text/plain": [
       "<Figure size 432x288 with 1 Axes>"
      ]
     },
     "metadata": {},
     "output_type": "display_data"
    }
   ],
   "source": [
    "fig = plt.figure()\n",
    "ax = fig.add_subplot(111, projection='3d')\n",
    "ax.scatter(data[data['Ouverture']==1]['dateTime']/3600,data[data['Ouverture']==1]['Lyon_Temp'],data[data['Ouverture']==1]['Temp_1H'])"
   ]
  },
  {
   "cell_type": "code",
   "execution_count": 12,
   "metadata": {},
   "outputs": [
    {
     "data": {
      "text/plain": [
       "0"
      ]
     },
     "execution_count": 12,
     "metadata": {},
     "output_type": "execute_result"
    }
   ],
   "source": [
    "[1,2,3].index(1)"
   ]
  },
  {
   "cell_type": "code",
   "execution_count": null,
   "metadata": {},
   "outputs": [],
   "source": []
  }
 ],
 "metadata": {
  "kernelspec": {
   "display_name": "Python 3",
   "language": "python",
   "name": "python3"
  },
  "language_info": {
   "codemirror_mode": {
    "name": "ipython",
    "version": 3
   },
   "file_extension": ".py",
   "mimetype": "text/x-python",
   "name": "python",
   "nbconvert_exporter": "python",
   "pygments_lexer": "ipython3",
   "version": "3.6.5"
  }
 },
 "nbformat": 4,
 "nbformat_minor": 2
}
